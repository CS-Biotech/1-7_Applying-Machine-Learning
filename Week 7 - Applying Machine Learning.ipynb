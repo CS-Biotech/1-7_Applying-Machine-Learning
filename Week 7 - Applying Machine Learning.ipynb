{
 "cells": [
  {
   "cell_type": "markdown",
   "metadata": {
    "id": "2zbhQGzDhw-X"
   },
   "source": [
    "# Week 7 - Applying Machine Learning\n",
    "\n",
    "In this week, we will be working on a case study on utilizing ML on a genetics dataset. The goal of this module is to have you go through the ML pipeline to identify and classify types of cancer in patient data.\n",
    "\n",
    "\n"
   ]
  },
  {
   "cell_type": "markdown",
   "metadata": {
    "id": "RYXSrJa5ifT-"
   },
   "source": [
    "## ML Pipeline\n",
    "\n",
    "As a reminder, a Machine learning pipeline typically involves 4 steps:\n",
    "\n",
    "1. Data Preparation: In this step, we obtain the relevant data for the task we are trying to perform.\n",
    "2. Data Exploration: We then analyze the data at hand to manually find potentially interesting patterns.\n",
    "3. Model Training: Once we have explored our data and manually identified potential trends and patterns, we can train (aka fit) a machine learning model. Ideally, the ML model will pick up patterns we have missed and will be able to outperform rules we discover.\n",
    "4. Model Evaluation: To confirm if the model picked up useful trends, we will use a variety of metrics to evaluate how well the model does at our task.\n",
    "\n",
    "![fcall](fcall.png)"
   ]
  },
  {
   "cell_type": "markdown",
   "metadata": {
    "id": "oOsT968liKIf"
   },
   "source": [
    "## Gene Expression Data for Acute Leukemia Patients\n",
    "In this module, we are going to analyze gene expression data for acure leukemia patients. Leukemia is a form of cancer that impacts the blood and bone marrow, interfering with the normal production and function of healthy blood cells. Within the bone marrow, blood stem cells, known as hematopoietic stem cells, generate different types of blood cells. Leukemia arises when these stem cells produce abnormal white blood cells, crowding out healthy cells and disrupting their functions. As a result, individuals with leukemia may become more prone to infections, experience anemia, or bleed easily.\n",
    "\n",
    "Given its severity, it would be nice to be able to identify the type of leukemia a patient may have. To do this, [Golub et al. (1999)](https://pubmed.ncbi.nlm.nih.gov/10521349/) collected gene expression data from patients and aimed to use identify whether or not patients had either cute myeloid leukemia - AML - or acute lymphoblastic leukemia - ALL. Our goal is to use this data to create a classifier.\n",
    "\n",
    "\n",
    "\n"
   ]
  },
  {
   "cell_type": "markdown",
   "metadata": {
    "id": "HaYwUnQVl6lJ"
   },
   "source": [
    "\n",
    "## Data Preparation\n",
    "\n",
    "![fc1](fc1.png)\n",
    "\n",
    "Like in our previous datasets, the data has already been prepared for us. Detailed preparation steps can be found at [this link](https://www.kaggle.com/code/selinyang/gene-expression-data-for-acute-leukemia-patients).\n",
    "\n",
    "\n"
   ]
  },
  {
   "cell_type": "markdown",
   "metadata": {
    "id": "isoufL5jl0LE"
   },
   "source": [
    "---\n",
    "\n",
    "##### **Q1: Read in `gene_expression_data.csv.` Assign the `cancer` column to `y` and the rest of the columns to `X.`**"
   ]
  },
  {
   "cell_type": "code",
   "execution_count": null,
   "metadata": {
    "id": "FMcjMCNYhtIW"
   },
   "outputs": [],
   "source": [
    "import pandas as pd\n",
    "import numpy as np\n",
    "\n",
    "### YOUR CODE HERE\n"
   ]
  },
  {
   "cell_type": "markdown",
   "metadata": {
    "id": "JABO33RzAcdU"
   },
   "source": [
    "Each column in `X` corresponds to a certain level of gene expresssion, and each row is a patient. The `y` contains the type of cancer the patient has: `ALL` or `AML.`\n"
   ]
  },
  {
   "cell_type": "markdown",
   "metadata": {
    "id": "_x_WMVGLnIeM"
   },
   "source": [
    "---\n",
    "\n",
    "##### **Q2: Binarize `y` by assigning `ALL` to 1 and `AML` to 0.**"
   ]
  },
  {
   "cell_type": "code",
   "execution_count": null,
   "metadata": {
    "id": "R0-KZpCQnrBH"
   },
   "outputs": [],
   "source": [
    "### YOUR CODE HERE\n"
   ]
  },
  {
   "cell_type": "markdown",
   "metadata": {
    "id": "9NEthVg8mSh0"
   },
   "source": [
    "## Data Exploration\n",
    "\n",
    "![fc2](fc2.png)\n",
    "\n",
    "\n",
    "Before we dive into training a ML Model, we will first manually explore the data to see if we can identify ways to distinguish between the two classes.\n",
    "\n"
   ]
  },
  {
   "cell_type": "markdown",
   "metadata": {
    "id": "OGdg5CRKn8Qn"
   },
   "source": [
    "\n",
    "---\n",
    "##### **Q3: How many genes (features) are in the dataset?**\n",
    "\n",
    "> Hint: Look at week 3 Question 5 on how to subset dataframes."
   ]
  },
  {
   "cell_type": "code",
   "execution_count": null,
   "metadata": {
    "id": "7VkxbP1eoIix"
   },
   "outputs": [],
   "source": [
    "### YOUR CODE HERE"
   ]
  },
  {
   "cell_type": "markdown",
   "metadata": {
    "id": "U_Q8FkAfn7v7"
   },
   "source": [
    "\n",
    "---\n",
    "##### **Q4: Subset the data into two different dataframes, one with all AML cases and one with ALL cases. What percentage of patients have AML?**\n",
    "\n",
    "> Hint: Look at week 3 Question 5 on how to subset dataframes."
   ]
  },
  {
   "cell_type": "code",
   "execution_count": null,
   "metadata": {
    "id": "kpKREN6womdk"
   },
   "outputs": [],
   "source": [
    "### YOUR CODE HERE\n",
    "# Subset the data\n",
    "\n",
    "# Calculate the percentage of patients with AML"
   ]
  },
  {
   "cell_type": "markdown",
   "metadata": {
    "id": "nEn21o5bol7g"
   },
   "source": [
    "\n",
    "---\n",
    "##### **Q5: Without using ML, visualize and analyse the data and try to construct 1-2 manual rules that may distinguish between the two types of cancer. What is the accuracy of your rules?**\n",
    "\n"
   ]
  },
  {
   "cell_type": "code",
   "execution_count": null,
   "metadata": {
    "id": "3v-Ar0AbpiPe"
   },
   "outputs": [],
   "source": [
    "### YOUR CODE HERE"
   ]
  },
  {
   "cell_type": "markdown",
   "metadata": {
    "id": "2uniRgrKqH5W"
   },
   "source": [
    "## Model Training\n",
    "\n",
    "![fc3](fc3.png)\n",
    "\n",
    "Now, let's train a ML model to perform this classification task."
   ]
  },
  {
   "cell_type": "markdown",
   "metadata": {
    "id": "xl4oVIbCpiXA"
   },
   "source": [
    "\n",
    "---\n",
    "##### **Q6: Split the data into a training set (`X_train` and `y_train`) and testing set (`X_test` and `y_test`).**\n"
   ]
  },
  {
   "cell_type": "code",
   "execution_count": null,
   "metadata": {
    "id": "9pctes8OppG-"
   },
   "outputs": [],
   "source": [
    "## YOUR CODE HERE\n",
    "\n",
    "# import the correct function\n",
    "\n",
    "# split the data"
   ]
  },
  {
   "cell_type": "markdown",
   "metadata": {
    "id": "9kJFaYkWqRjX"
   },
   "source": [
    "---\n",
    "\n",
    "\n",
    "In the previous modules, you learned about 4 different models. In the sections below, you will tune and train two different models. The first one will be a Decision Tree, and the second one will be your choice.\n"
   ]
  },
  {
   "cell_type": "markdown",
   "metadata": {
    "id": "qrVVu8NwqgT9"
   },
   "source": [
    "\n",
    "---\n",
    "##### **Q7: Fill in the function below to test a hyperparameter configuration for a Decision Tree. This function should accept the training set as well as at least 3 hyperparameters (but feel free to add more) and perform K-Fold Cross-Validation.**\n",
    "> HINT: Look at Week 6"
   ]
  },
  {
   "cell_type": "code",
   "execution_count": null,
   "metadata": {
    "id": "VTWzTgB9rLBJ"
   },
   "outputs": [],
   "source": [
    "def test_hyperparameter_DT(X_train, y_train,\n",
    "                                HP_1, # CHANGE THIS TO YOUR HyperParameter\n",
    "                                HP_2, # CHANGE THIS TO YOUR HyperParameter\n",
    "                                HP_3, # CHANGE THIS TO YOUR HyperParameter\n",
    "                                ):\n",
    "  accuracies = []\n",
    "\n",
    "  # create folds\n",
    "  ## YOUR CODE HERE\n",
    "\n",
    "  # loop through the folds\n",
    "  for ... : ## YOUR CODE HERE\n",
    "    # Get what samples should be in each split\n",
    "    ## YOUR CODE HERE\n",
    "\n",
    "    # select the samples\n",
    "    ## YOUR CODE HERE\n",
    "\n",
    "    # initialize a new model\n",
    "    dt = ... ## YOUR CODE HERE\n",
    "\n",
    "    # Train the model on the train fold\n",
    "    ## YOUR CODE HERE\n",
    "\n",
    "    # Make predictions on the validation fold\n",
    "    val_predictions  = ... ## YOUR CODE HERE\n",
    "\n",
    "    # calculate the accuracy of the val predictions\n",
    "\n",
    "    fold_accuracy = ... ## YOUR CODE HERE\n",
    "\n",
    "    accuracies.append(fold_accuracy)\n",
    "  return np.mean(accuracies) # return the average accuracy across all folds\n"
   ]
  },
  {
   "cell_type": "markdown",
   "metadata": {
    "id": "lI8A2jsuuLj-"
   },
   "source": [
    "\n",
    "---\n",
    "##### **Q8: Using the above function, perform a Grid Search for the best set of Hyperparameters for the Decision Tree. What is the best CV accuracy achieved?**\n",
    "> HINT: Look at Week 6"
   ]
  },
  {
   "cell_type": "code",
   "execution_count": null,
   "metadata": {
    "id": "cvVbqbQVuLqc"
   },
   "outputs": [],
   "source": [
    "# Loop through the HP configurations, calling the above function for each config."
   ]
  },
  {
   "cell_type": "markdown",
   "metadata": {
    "id": "F58F_bNFuns2"
   },
   "source": [
    "\n",
    "---\n",
    "##### **Q9: Using the best hyperparameters found, train a new Decision tree on all the training data.**\n"
   ]
  },
  {
   "cell_type": "code",
   "execution_count": null,
   "metadata": {
    "id": "WaciwUUhwFjP"
   },
   "outputs": [],
   "source": [
    "## YOUR CODE HERE\n",
    "\n",
    "# create a new model\n",
    "\n",
    "# train the model using the training data\n"
   ]
  },
  {
   "cell_type": "markdown",
   "metadata": {
    "id": "Vfn7JBiUwKkq"
   },
   "source": [
    "## Model Evaluation\n",
    "\n",
    "![fc4](fc4.png)\n",
    "\n",
    "Now that we have trained our model, let's see how well it performs."
   ]
  },
  {
   "cell_type": "markdown",
   "metadata": {
    "id": "xF8WvH69wRvf"
   },
   "source": [
    "\n",
    "---\n",
    "##### **Q10: Make predictions on the training and test sets for the Decision Tree.**\n"
   ]
  },
  {
   "cell_type": "code",
   "execution_count": null,
   "metadata": {
    "id": "9gHaOUAkwY1O"
   },
   "outputs": [],
   "source": [
    "# make prediction for the training data\n",
    "\n",
    "# make predictions for the testing data\n"
   ]
  },
  {
   "cell_type": "markdown",
   "metadata": {
    "id": "KVh59GtJwZKW"
   },
   "source": [
    "\n",
    "---\n",
    "##### **Q11: What is the train and test accuracy, precision, and recall? Do you think the model is underfitting, overfitting, or neither and why?**\n"
   ]
  },
  {
   "cell_type": "code",
   "execution_count": null,
   "metadata": {
    "id": "xLlAg7RvwnpG"
   },
   "outputs": [],
   "source": [
    "## YOUR CODE HERE\n",
    "# Train metrics\n",
    "\n",
    "# calculate true positives, true negatives, false positives, false negatives for train\n",
    "\n",
    "# Calculate precision recall, and accuracy\n",
    "\n",
    "# repeat for test."
   ]
  },
  {
   "cell_type": "markdown",
   "metadata": {
    "id": "zNH_9uRGzSgF"
   },
   "source": [
    "\n",
    "---\n",
    "##### **Q12: Visualize the best decision tree. What feature is in the root node? How many leaves does your tree have?**\n",
    "\n",
    "> HINT: use the `plot_tree` function from `sklearn.tree`"
   ]
  },
  {
   "cell_type": "code",
   "execution_count": null,
   "metadata": {
    "id": "5QS2NZW8zSmp"
   },
   "outputs": [],
   "source": []
  },
  {
   "cell_type": "markdown",
   "metadata": {
    "id": "IFRRE1keDz6e"
   },
   "source": [
    "##### **Q13: According to the decision tree, what genes and what level of expression determine if someone will have AML?**\n",
    "> HINT: Look at the paths to leaves that predict AML"
   ]
  },
  {
   "cell_type": "code",
   "execution_count": null,
   "metadata": {
    "id": "loAImCYfDzKq"
   },
   "outputs": [],
   "source": []
  },
  {
   "cell_type": "markdown",
   "metadata": {
    "id": "ga0Lj7JqwoZk"
   },
   "source": [
    "## Graded Questions\n",
    "\n",
    "---\n",
    "##### **GQ1: Repeat Questions 7-11 for a new model (e.g. LR, XGBoost, SVM, or any model you choose).**\n"
   ]
  },
  {
   "cell_type": "code",
   "execution_count": null,
   "metadata": {},
   "outputs": [],
   "source": [
    "# installs and imports for XGboost, SVM, and LR\n",
    "!pip install xgboost\n",
    "from xgboost import XGBClassifier\n",
    "from sklearn.svm import SVC\n",
    "from sklearn.linear_model import LogisticRegression"
   ]
  },
  {
   "cell_type": "markdown",
   "metadata": {
    "id": "DF0rSolvzxtO"
   },
   "source": [
    "###### GQ.7: Fill in the function below to test a hyperparameter configuration for a your model. This function should accept the training set as well as at least 3 hyperparameters (but feel free to add more) and perform K-Fold Cross-Validation (3pt).\n"
   ]
  },
  {
   "cell_type": "code",
   "execution_count": null,
   "metadata": {
    "id": "pdYdJlcdzLDu"
   },
   "outputs": [],
   "source": [
    "def test_hyperparameter_YOUR_MODEL(X_train, y_train,\n",
    "                                HP_1, # CHANGE THIS TO YOUR HyperParameter\n",
    "                                HP_2, # CHANGE THIS TO YOUR HyperParameter\n",
    "                                HP_3, # CHANGE THIS TO YOUR HyperParameter\n",
    "                                ):\n",
    "  accuracies = []\n",
    "\n",
    "  # create folds\n",
    "  ## YOUR CODE HERE\n",
    "\n",
    "  # loop through the folds\n",
    "  for ... : ## YOUR CODE HERE\n",
    "    # Get what samples should be in each split\n",
    "    ## YOUR CODE HERE\n",
    "\n",
    "    # select the samples\n",
    "    ## YOUR CODE HERE\n",
    "\n",
    "    # initialize a new model\n",
    "    model = ... ## YOUR CODE HERE\n",
    "\n",
    "    # Train the model on the train fold\n",
    "    ## YOUR CODE HERE\n",
    "\n",
    "    # Make predictions on the validation fold\n",
    "    val_predictions  = ... ## YOUR CODE HERE\n",
    "\n",
    "    # calculate the accuracy of the val predictions\n",
    "\n",
    "    fold_accuracy = ... ## YOUR CODE HERE\n",
    "\n",
    "    accuracies.append(fold_accuracy)\n",
    "  return np.mean(accuracies) # return the average accuracy across all folds\n"
   ]
  },
  {
   "cell_type": "markdown",
   "metadata": {
    "id": "fjD6QYKOzyiC"
   },
   "source": [
    "###### GQ.8: Using the above function, perform a Grid Search for the best set of Hyperparameters for your model (3pt). What is the best CV accuracy achieved (2pt)?\n",
    "> HINT: Look at Week 6\n"
   ]
  },
  {
   "cell_type": "code",
   "execution_count": null,
   "metadata": {
    "id": "fVT5-St-zzej"
   },
   "outputs": [],
   "source": [
    "# Your code here"
   ]
  },
  {
   "cell_type": "markdown",
   "metadata": {
    "id": "6S85kpQLzzpK"
   },
   "source": [
    "###### GQ.9: Using the best hyperparameters found, train a new model on all the training data (1pt)."
   ]
  },
  {
   "cell_type": "code",
   "execution_count": null,
   "metadata": {
    "id": "uzHExC59z1cr"
   },
   "outputs": [],
   "source": [
    "# Your code here"
   ]
  },
  {
   "cell_type": "markdown",
   "metadata": {
    "id": "cYuZHM2xz0uq"
   },
   "source": [
    "###### GQ.10: Make predictions on the training and test sets for your model (2pt). \n"
   ]
  },
  {
   "cell_type": "code",
   "execution_count": null,
   "metadata": {
    "id": "Brz92Mvhz2lX"
   },
   "outputs": [],
   "source": [
    "# Your code here"
   ]
  },
  {
   "cell_type": "markdown",
   "metadata": {
    "id": "3zI7NjT6z2rV"
   },
   "source": [
    "###### GQ.11: What is the train accuracy, precision, and recall (3pt)? Do you think the model is underfitting, overfitting, or neither and why (2pt)?\n",
    "\n",
    "*Your Answer Here*"
   ]
  },
  {
   "cell_type": "markdown",
   "metadata": {
    "id": "aAONeJXpzMGD"
   },
   "source": [
    "---\n",
    "\n",
    "##### **GQ2: Considering the decision tree model made in the first half of this module in comparison with the model of your chose made in the second half of this module, which model performed better? (1 mark) Justify your reasoning with the use of model evaluation metrics (1 mark) and suggest why there this difference (1 mark).**"
   ]
  },
  {
   "cell_type": "markdown",
   "metadata": {
    "id": "a4xJOFH0014a"
   },
   "source": [
    "*Your Answer Here*"
   ]
  },
  {
   "cell_type": "markdown",
   "metadata": {},
   "source": [
    "---"
   ]
  },
  {
   "cell_type": "markdown",
   "metadata": {},
   "source": [
    "## Conclusion\n",
    "\n",
    "In this module, we have gone through the entire ML pipeline to classify the type of cancer a patient has. We started by exploring the data and manually identifying patterns, then trained a Decision Tree model to classify the data. We then evaluated the model and found that it was overfitting. We then trained a new model and evaluated it. Finally, we compared the two models and determined which one was better. \n",
    "\n",
    "While we focused on a specific dataset in this module, the ML pipeline can be applied to a wide variety of datasets and problems. The key is to understand the data, train a model, and evaluate its performance. By following this process, you can apply ML to a wide range of problems and make predictions based on data."
   ]
  }
 ],
 "metadata": {
  "colab": {
   "private_outputs": true,
   "provenance": [],
   "toc_visible": true
  },
  "kernelspec": {
   "display_name": "Python 3",
   "name": "python3"
  },
  "language_info": {
   "name": "python"
  }
 },
 "nbformat": 4,
 "nbformat_minor": 0
}
